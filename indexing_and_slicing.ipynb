{
 "cells": [
  {
   "cell_type": "code",
   "execution_count": 4,
   "id": "f2950540-bab7-4239-bb84-4b4a6020868a",
   "metadata": {},
   "outputs": [],
   "source": [
    "import numpy as np"
   ]
  },
  {
   "cell_type": "code",
   "execution_count": 13,
   "id": "dc1694b2-e1e4-4536-908c-2c2d04f942a1",
   "metadata": {},
   "outputs": [
    {
     "name": "stdout",
     "output_type": "stream",
     "text": [
      "int32\n"
     ]
    },
    {
     "data": {
      "text/plain": [
       "9"
      ]
     },
     "execution_count": 13,
     "metadata": {},
     "output_type": "execute_result"
    }
   ],
   "source": [
    "mylist = (2, 4, 5, 6, 7, 9, 7, 8, 10)\n",
    "mya = np.array(mylist)\n",
    "print(mya.dtype)\n",
    "mya.size\n"
   ]
  },
  {
   "cell_type": "code",
   "execution_count": 11,
   "id": "4f8061bb-887d-4298-963c-cc8107d9582d",
   "metadata": {},
   "outputs": [
    {
     "data": {
      "text/plain": [
       "6.444444444444445"
      ]
     },
     "execution_count": 11,
     "metadata": {},
     "output_type": "execute_result"
    }
   ],
   "source": [
    "np.mean(mya)"
   ]
  },
  {
   "cell_type": "code",
   "execution_count": 14,
   "id": "07b051d1-f5a6-4ba6-b78e-d25e6ca3c1d7",
   "metadata": {},
   "outputs": [
    {
     "name": "stdout",
     "output_type": "stream",
     "text": [
      "6.444444444444445\n"
     ]
    },
    {
     "data": {
      "text/plain": [
       "58"
      ]
     },
     "execution_count": 14,
     "metadata": {},
     "output_type": "execute_result"
    }
   ],
   "source": [
    "print(mya.mean())\n",
    "mya.sum()"
   ]
  },
  {
   "cell_type": "code",
   "execution_count": 21,
   "id": "241bd6a6-c5d4-4800-b45e-6f551e9c6fc7",
   "metadata": {},
   "outputs": [
    {
     "name": "stdout",
     "output_type": "stream",
     "text": [
      "10\n",
      "2\n",
      "0\n",
      "8\n",
      "58\n",
      "6.444444444444445\n",
      "2.3622546250521443\n",
      "7.0\n",
      "(2, 4, 5, 6, 7, 9, 7, 8, 10)\n",
      "[ 2  4  5  6  7  7  8  9 10]\n",
      "6.444444444444445\n"
     ]
    }
   ],
   "source": [
    "print(np.max(mya))\n",
    "print(np.min(mya))\n",
    "print(np.argmin(mya))\n",
    "print(np.argmax(mya))\n",
    "print(np.sum(mya))\n",
    "print(np.mean(mya))\n",
    "print(np.std(mya))\n",
    "print(np.median(mya))\n",
    "print(mylist)\n",
    "print(np.sort(mya))"
   ]
  },
  {
   "cell_type": "markdown",
   "id": "7dd0f5d6-3650-4097-9641-32c504925604",
   "metadata": {},
   "source": [
    "Numpy Operators"
   ]
  },
  {
   "cell_type": "code",
   "execution_count": 22,
   "id": "d39962c5-fd75-4ca7-bcde-72d5f91266f9",
   "metadata": {},
   "outputs": [
    {
     "data": {
      "text/plain": [
       "array([ 2,  4,  5,  6,  7,  9,  7,  8, 10])"
      ]
     },
     "execution_count": 22,
     "metadata": {},
     "output_type": "execute_result"
    }
   ],
   "source": [
    "new_mya = np.copy(mya)\n",
    "new_mya"
   ]
  },
  {
   "cell_type": "code",
   "execution_count": 23,
   "id": "84886ec9-7178-4d41-bfeb-71b8d35414d3",
   "metadata": {},
   "outputs": [
    {
     "data": {
      "text/plain": [
       "array([ 4,  8, 10, 12, 14, 18, 14, 16, 20])"
      ]
     },
     "execution_count": 23,
     "metadata": {},
     "output_type": "execute_result"
    }
   ],
   "source": [
    "# Element-wise addition\n",
    "mya + new_mya"
   ]
  },
  {
   "cell_type": "code",
   "execution_count": 24,
   "id": "3e29da7f-94cb-48cb-a0b0-8236536eab4c",
   "metadata": {},
   "outputs": [
    {
     "data": {
      "text/plain": [
       "array([0, 0, 0, 0, 0, 0, 0, 0, 0])"
      ]
     },
     "execution_count": 24,
     "metadata": {},
     "output_type": "execute_result"
    }
   ],
   "source": [
    "mya - new_mya"
   ]
  },
  {
   "cell_type": "code",
   "execution_count": 28,
   "id": "2594d94d-4291-45c9-bd11-eac7e1a517d7",
   "metadata": {},
   "outputs": [
    {
     "name": "stdout",
     "output_type": "stream",
     "text": [
      "[1. 1. 1. 1. 1. 1. 1. 1. 1. 1.]\n",
      "[0. 0. 0. 0. 0.]\n",
      "[[1. 0. 0. 0. 0. 0. 0.]\n",
      " [0. 1. 0. 0. 0. 0. 0.]\n",
      " [0. 0. 1. 0. 0. 0. 0.]]\n"
     ]
    }
   ],
   "source": [
    "print(np.ones(10))\n",
    "print(np.zeros(5))\n",
    "print(np.eye(3,7))"
   ]
  },
  {
   "cell_type": "markdown",
   "id": "53a4998b-9ed0-4e50-9fee-93494b3c88ec",
   "metadata": {},
   "source": [
    "SLICING"
   ]
  },
  {
   "cell_type": "code",
   "execution_count": 32,
   "id": "2f1eea58-018b-4dcc-9f95-fa14b6b22084",
   "metadata": {},
   "outputs": [
    {
     "name": "stdout",
     "output_type": "stream",
     "text": [
      "[ 2  4  5  6  7  9  7  8 10]\n",
      "[4 5 6 7]\n"
     ]
    },
    {
     "data": {
      "text/plain": [
       "array([ 7,  8, 10])"
      ]
     },
     "execution_count": 32,
     "metadata": {},
     "output_type": "execute_result"
    }
   ],
   "source": [
    "print(mya)\n",
    "print(mya[1:5])\n",
    "mya[6:10]"
   ]
  },
  {
   "cell_type": "code",
   "execution_count": null,
   "id": "6e069b5f-d306-4e23-b6b4-442bcd726760",
   "metadata": {},
   "outputs": [],
   "source": []
  }
 ],
 "metadata": {
  "kernelspec": {
   "display_name": "Python 3 (ipykernel)",
   "language": "python",
   "name": "python3"
  },
  "language_info": {
   "codemirror_mode": {
    "name": "ipython",
    "version": 3
   },
   "file_extension": ".py",
   "mimetype": "text/x-python",
   "name": "python",
   "nbconvert_exporter": "python",
   "pygments_lexer": "ipython3",
   "version": "3.12.7"
  }
 },
 "nbformat": 4,
 "nbformat_minor": 5
}
