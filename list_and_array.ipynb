{
 "cells": [
  {
   "cell_type": "code",
   "execution_count": 1,
   "id": "b7030da2-7a17-4f16-9d5c-efdf339e3986",
   "metadata": {},
   "outputs": [],
   "source": [
    "import numpy as np"
   ]
  },
  {
   "cell_type": "code",
   "execution_count": 2,
   "id": "867c96d2-2041-47ff-91d6-48172b5a2bde",
   "metadata": {},
   "outputs": [
    {
     "data": {
      "text/plain": [
       "'C:\\\\Users\\\\j\\\\Documents\\\\DS Projects\\\\Gazal'"
      ]
     },
     "execution_count": 2,
     "metadata": {},
     "output_type": "execute_result"
    }
   ],
   "source": [
    "pwd"
   ]
  },
  {
   "cell_type": "code",
   "execution_count": 20,
   "id": "bf04d150-b3f9-4ae5-bf18-e403f7d6da0a",
   "metadata": {},
   "outputs": [
    {
     "name": "stdout",
     "output_type": "stream",
     "text": [
      "<class 'list'>\n"
     ]
    },
    {
     "data": {
      "text/plain": [
       "[1, 2, 30, 40, -50]"
      ]
     },
     "execution_count": 20,
     "metadata": {},
     "output_type": "execute_result"
    }
   ],
   "source": [
    "# create a  list\n",
    "mylist = [1,2,30,40,-50]\n",
    "sh = myarr.shape\n",
    "print(type(mylist))\n",
    "mylist"
   ]
  },
  {
   "cell_type": "code",
   "execution_count": 29,
   "id": "1cef5484-d673-4530-97dd-f9d1dc8030a0",
   "metadata": {},
   "outputs": [
    {
     "name": "stdout",
     "output_type": "stream",
     "text": [
      "[  1   2  30  40 -50]\n",
      "[1, 2, 30, 40, -50]\n",
      "int32\n",
      "(5,)\n",
      "5\n",
      "<built-in method item of numpy.ndarray object at 0x00000217625A10B0>\n",
      "4\n",
      "<class 'numpy.ndarray'>\n",
      "<class 'tuple'>\n",
      "5\n"
     ]
    }
   ],
   "source": [
    "# from list create array\n",
    "myarr = np.array(mylist)\n",
    "print(myarr)\n",
    "print(mylist)\n",
    "print(myarr.dtype)\n",
    "print(myarr.shape)\n",
    "print(myarr.size)\n",
    "print(myarr.item)\n",
    "print(myarr.itemsize)\n",
    "print(type(myarr))\n",
    "print(type(sh))\n",
    "myarr.itemsize\n",
    "print(sh[0])\n"
   ]
  },
  {
   "cell_type": "markdown",
   "id": "b8e4ca41-6410-4a1d-8f07-215ed17c6af1",
   "metadata": {},
   "source": [
    "2 dimensional matrix"
   ]
  },
  {
   "cell_type": "code",
   "execution_count": 34,
   "id": "dceb0f5e-2b25-47f1-9c67-e8cb0233a3b3",
   "metadata": {},
   "outputs": [
    {
     "name": "stdout",
     "output_type": "stream",
     "text": [
      "[[[2 3]]\n",
      "\n",
      " [[4 5]]]\n",
      "[[1 3]\n",
      " [2 4]]\n",
      "[[[ 2  8]\n",
      "  [ 6 16]]\n",
      "\n",
      " [[ 3 10]\n",
      "  [ 9 20]]]\n"
     ]
    }
   ],
   "source": [
    "# Create a 2D array (matrix)\n",
    "a = [2, 4]\n",
    "b = [3, 5]\n",
    "mat1 = np.array([[a],[b]])\n",
    "mat2 = np.array([[1, 2], [3, 4]])\n",
    "c = mat1*mat2\n",
    "print(mat1.T)\n",
    "print(mat2.T)\n",
    "print(c)"
   ]
  },
  {
   "cell_type": "code",
   "execution_count": 35,
   "id": "b26787d1-4e92-47bf-8d69-2fb72ceafe26",
   "metadata": {},
   "outputs": [
    {
     "name": "stdout",
     "output_type": "stream",
     "text": [
      "int32\n",
      "(2, 1, 2)\n",
      "4\n",
      "<built-in method item of numpy.ndarray object at 0x00000217625A07B0>\n",
      "4\n",
      "[[[ 2  8]\n",
      "  [ 6 16]]\n",
      "\n",
      " [[ 3 10]\n",
      "  [ 9 20]]]\n"
     ]
    }
   ],
   "source": [
    "print(mat1.dtype)\n",
    "print(mat1.shape)\n",
    "print(mat1.size)\n",
    "print(mat1.item)\n",
    "print(mat1.itemsize)\n"
   ]
  },
  {
   "cell_type": "code",
   "execution_count": 36,
   "id": "029a4857-461d-4eec-b997-cb6aef10387d",
   "metadata": {},
   "outputs": [
    {
     "name": "stdout",
     "output_type": "stream",
     "text": [
      "[[[ 2  8]\n",
      "  [ 6 16]]\n",
      "\n",
      " [[ 3 10]\n",
      "  [ 9 20]]]\n",
      "int32\n",
      "(2, 2, 2)\n",
      "8\n",
      "<built-in method item of numpy.ndarray object at 0x00000217625A3750>\n",
      "4\n"
     ]
    }
   ],
   "source": [
    "print(c)\n",
    "print(c.dtype)\n",
    "print(c.shape)\n",
    "print(c.size)\n",
    "print(c.item)\n",
    "print(c.itemsize)"
   ]
  },
  {
   "cell_type": "code",
   "execution_count": null,
   "id": "bce4fc6b-c123-41c0-b010-e9f22f7d8d21",
   "metadata": {},
   "outputs": [],
   "source": []
  }
 ],
 "metadata": {
  "kernelspec": {
   "display_name": "Python 3 (ipykernel)",
   "language": "python",
   "name": "python3"
  },
  "language_info": {
   "codemirror_mode": {
    "name": "ipython",
    "version": 3
   },
   "file_extension": ".py",
   "mimetype": "text/x-python",
   "name": "python",
   "nbconvert_exporter": "python",
   "pygments_lexer": "ipython3",
   "version": "3.12.7"
  }
 },
 "nbformat": 4,
 "nbformat_minor": 5
}
